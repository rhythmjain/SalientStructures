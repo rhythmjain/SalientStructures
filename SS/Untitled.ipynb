{
 "cells": [
  {
   "cell_type": "code",
   "execution_count": 34,
   "id": "exciting-hobby",
   "metadata": {},
   "outputs": [],
   "source": [
    "import os\n",
    "import numpy as np\n",
    "import pandas as pd"
   ]
  },
  {
   "cell_type": "code",
   "execution_count": 15,
   "id": "nervous-hospital",
   "metadata": {},
   "outputs": [],
   "source": [
    "with open(\"number.txt\", \"r\") as f:\n",
    "    old_num = f.readlines()\n",
    "    f.close()"
   ]
  },
  {
   "cell_type": "code",
   "execution_count": 16,
   "id": "interesting-simon",
   "metadata": {},
   "outputs": [
    {
     "data": {
      "text/plain": [
       "['1']"
      ]
     },
     "execution_count": 16,
     "metadata": {},
     "output_type": "execute_result"
    }
   ],
   "source": [
    "old_num"
   ]
  },
  {
   "cell_type": "code",
   "execution_count": 17,
   "id": "twelve-dispute",
   "metadata": {},
   "outputs": [],
   "source": [
    "new_num = int(old_num[0]) + 1"
   ]
  },
  {
   "cell_type": "code",
   "execution_count": 18,
   "id": "technological-functionality",
   "metadata": {},
   "outputs": [],
   "source": [
    "with open(\"number.txt\", \"w\") as f:\n",
    "    f.write(str(new_num))\n",
    "    f.close()"
   ]
  },
  {
   "cell_type": "code",
   "execution_count": 27,
   "id": "centered-valentine",
   "metadata": {},
   "outputs": [],
   "source": [
    "def getVG(num):\n",
    "    return 2*(num//10) + (num % 2)\n",
    "\n",
    "def getAG(num):\n",
    "    return num+1 if num%2==0 else num-1\n",
    "\n",
    "def get_row_start(gnum):\n",
    "    return gnum*5\n",
    "def get_row_end(gnum, length):\n",
    "    return gnum*5+length"
   ]
  },
  {
   "cell_type": "code",
   "execution_count": 30,
   "id": "bound-momentum",
   "metadata": {},
   "outputs": [
    {
     "name": "stdout",
     "output_type": "stream",
     "text": [
      "0 1\n",
      "1 0\n",
      "0 1\n",
      "1 0\n",
      "0 1\n",
      "1 0\n",
      "0 1\n",
      "1 0\n",
      "0 1\n",
      "1 0\n",
      "2 3\n",
      "3 2\n",
      "2 3\n",
      "3 2\n",
      "2 3\n",
      "3 2\n",
      "2 3\n",
      "3 2\n",
      "2 3\n",
      "3 2\n"
     ]
    }
   ],
   "source": [
    "for i in range(20):\n",
    "    print(getVG(i), getAG(getVG(i)))"
   ]
  },
  {
   "cell_type": "code",
   "execution_count": 31,
   "id": "adult-necessity",
   "metadata": {},
   "outputs": [
    {
     "data": {
      "text/plain": [
       "'/Users/johnmcnamara/Documents/GitHub/SalientStructures/SS'"
      ]
     },
     "execution_count": 31,
     "metadata": {},
     "output_type": "execute_result"
    }
   ],
   "source": [
    "pwd"
   ]
  },
  {
   "cell_type": "code",
   "execution_count": 38,
   "id": "dried-tuition",
   "metadata": {},
   "outputs": [
    {
     "data": {
      "text/plain": [
       "33"
      ]
     },
     "execution_count": 38,
     "metadata": {},
     "output_type": "execute_result"
    }
   ],
   "source": [
    "len(os.listdir(\"wavs\"))"
   ]
  },
  {
   "cell_type": "code",
   "execution_count": null,
   "id": "revised-charm",
   "metadata": {},
   "outputs": [],
   "source": []
  },
  {
   "cell_type": "code",
   "execution_count": null,
   "id": "integral-trance",
   "metadata": {},
   "outputs": [],
   "source": []
  }
 ],
 "metadata": {
  "kernelspec": {
   "display_name": "Python 3",
   "language": "python",
   "name": "python3"
  },
  "language_info": {
   "codemirror_mode": {
    "name": "ipython",
    "version": 3
   },
   "file_extension": ".py",
   "mimetype": "text/x-python",
   "name": "python",
   "nbconvert_exporter": "python",
   "pygments_lexer": "ipython3",
   "version": "3.9.0"
  }
 },
 "nbformat": 4,
 "nbformat_minor": 5
}
